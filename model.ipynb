{
 "cells": [
  {
   "cell_type": "markdown",
   "metadata": {},
   "source": [
    "# Задача\n",
    "одна из проблем, которую мы видим при обращении в саппорт - в разрезе разных категорий обращения необходимо смотреть в разные сервисы и собирать дополнительную информацию. На это уходит много времени. на одно обращение уходит в среднем 2 минуты поиска дополнительной информации. Стоимость часа работы сотрудника 6$.\n",
    "\n",
    "Давайте поможем и оптимизируем время и деньги компании - сделаем модель,которая в зависимости от текста будет определять категорию обращения автоматически.\n",
    "\n",
    "Тогда мы сможем сразу подготавливать информацию для наших операторов в течение 5 секунд (сбор и передача на фронт)\n",
    "\n",
    "Нужно сделать модель многоклассовой классификации определения категории обращения"
   ]
  },
  {
   "cell_type": "markdown",
   "metadata": {},
   "source": [
    "# загружаем данные"
   ]
  },
  {
   "cell_type": "code",
   "execution_count": 1,
   "metadata": {},
   "outputs": [],
   "source": [
    "\n",
    "from sklearn.feature_extraction.text import TfidfVectorizer\n",
    "\n",
    "import datetime\n",
    "import requests\n",
    "import collections as co\n",
    "import string\n",
    "import re\n",
    "\n",
    "import nltk\n",
    "from nltk.tag import StanfordNERTagger\n",
    "from sumy.utils import get_stop_words as gsw1\n",
    "from stop_words import get_stop_words as gsw2\n",
    "\n",
    "\n",
    "import pandas as pd\n",
    "import numpy as np"
   ]
  },
  {
   "cell_type": "code",
   "execution_count": 2,
   "metadata": {},
   "outputs": [],
   "source": [
    "\n",
    "from io import StringIO\n",
    "\n",
    "import matplotlib.pyplot as plt\n",
    "import seaborn as sns\n",
    "\n",
    "%matplotlib inline"
   ]
  },
  {
   "cell_type": "code",
   "execution_count": null,
   "metadata": {
    "scrolled": true
   },
   "outputs": [],
   "source": [
    "import os\n",
    "java_path = \"C:/Program Files/Java/jre1.8.0_221/bin/java.exe\"\n",
    "os.environ['JAVAHOME'] = java_path\n",
    "\n",
    "jar = 'C:/Course/xsolla/stanford-ner-4.0.0/stanford-ner-4.0.0.jar'\n",
    "model = 'C:/Course/xsolla/stanford-ner-4.0.0/classifiers/english.all.3class.distsim.crf.ser.gz'\n",
    "\n",
    "st = StanfordNERTagger(model, jar)\n"
   ]
  },
  {
   "cell_type": "code",
   "execution_count": 3,
   "metadata": {},
   "outputs": [
    {
     "data": {
      "text/plain": [
       "(50000, 3)"
      ]
     },
     "execution_count": 3,
     "metadata": {},
     "output_type": "execute_result"
    }
   ],
   "source": [
    "#df = pd.read_csv('./data/3categories_50.csv')\n",
    "#df2 = pd.read_csv(r'C:\\Users\\22080\\Downloads\\4_notebooks\\data\\3categories_50.csv')\n",
    "df = pd.read_csv(r'C:\\Users\\22080\\Downloads\\4_notebooks\\data\\3categories_50.csv')\n",
    "df.shape"
   ]
  },
  {
   "cell_type": "code",
   "execution_count": null,
   "metadata": {},
   "outputs": [],
   "source": [
    "df.head(2)"
   ]
  },
  {
   "cell_type": "code",
   "execution_count": null,
   "metadata": {},
   "outputs": [],
   "source": [
    "df['category'].hist()"
   ]
  },
  {
   "cell_type": "markdown",
   "metadata": {},
   "source": [
    "# Очитска от имён"
   ]
  },
  {
   "cell_type": "code",
   "execution_count": null,
   "metadata": {},
   "outputs": [],
   "source": [
    "#text = 'chat transcript: visitor: i am attempting to verify my card however the payment is not posting. all charges typically post immediately with my bank. sofia: hello sofia: please stand by online, as it may take some time to resolve the issue. ill provide you with an update in a few minutes. thank you for your patience. '\n",
    "text = df2.message[0]\n",
    "\n",
    "def getNamesFromText(text):\n",
    "    tag_list = []\n",
    "    for sent in nltk.sent_tokenize(text):\n",
    "        tokens = nltk.tokenize.word_tokenize(sent)\n",
    "        tags = st.tag(tokens)\n",
    "        print(tags)\n",
    "        for tag in tags:\n",
    "            if tag[1] in [\"PERSON\", \"LOCATION\", \"ORGANIZATION\"]:\n",
    "                if tag[0] not in tag_list:\n",
    "                    tag_list.append(tag[0])\n",
    "    return tag_list\n",
    "def getNamesFromDataFrame(df):\n",
    "    df['NNP'] = df.apply(lambda row: getNamesFromText(row.message), axis=1)\n",
    "    return df\n",
    "\n",
    "df2['NNP'] = np.nan\n",
    "\n",
    "for i in df2.index:\n",
    "    df2['NNP'].iloc[i] = getNamesFromText(df2.iloc[i].message)\n",
    "\n",
    "\n",
    "#df2 = getNamesFromDataFrame(df2)\n",
    "df2.head()"
   ]
  },
  {
   "cell_type": "code",
   "execution_count": null,
   "metadata": {},
   "outputs": [],
   "source": [
    "# extract ords from dataframe lists\n",
    "names_list = []\n",
    "for i in df2['NNP']:\n",
    "    for j in i:\n",
    "        if j not in names_list:\n",
    "            names_list.append(j)\n",
    "names_list\n"
   ]
  },
  {
   "cell_type": "code",
   "execution_count": null,
   "metadata": {},
   "outputs": [],
   "source": [
    "def clearTextAfterGarbage(Corpus,Substr):\n",
    "    clear_corpus = []\n",
    "    for text in Corpus:\n",
    "        indexes = []\n",
    "        text_len = len(text)\n",
    "        try:\n",
    "            for i in range(0,text_len):\n",
    "                res = re.search(Substr,text[i])\n",
    "                if res != None:\n",
    "                    indexes.append(i)\n",
    "                \n",
    "            #delete garbage word from text\n",
    "            for index in indexes:\n",
    "                del text[index]\n",
    "        \n",
    "            clear_corpus.append(text)\n",
    "        except:\n",
    "            #clear_corpus.append(\"error\")\n",
    "            clear_corpus.append(text) # а то слишком много ошибок\n",
    "        \n",
    "    return clear_corpus\n",
    "\n",
    "def clearTextAfterGarbageList2(Corpus,Garbage):\n",
    "    clear_corpus = Corpus\n",
    "    for Substr in Garbage:\n",
    "        clear_corpus = clearTextAfterGarbage(clear_corpus,Substr)\n",
    "    return clear_corpus"
   ]
  },
  {
   "cell_type": "code",
   "execution_count": null,
   "metadata": {},
   "outputs": [],
   "source": [
    "df2.message = clearTextAfterGarbageList2(df2.message, names_list)"
   ]
  },
  {
   "cell_type": "markdown",
   "metadata": {},
   "source": [
    "# прежде всего очистка данных"
   ]
  },
  {
   "cell_type": "code",
   "execution_count": 4,
   "metadata": {},
   "outputs": [],
   "source": [
    "#убираем технические данные в сообщениях и прочий шум\n",
    "df['message'] = df['message'].str.replace('\\[.*\\]', '', regex=True)\n",
    "\n",
    "df['message'] = df['message'].str.replace(\"\\!\", '', regex=True)\n",
    "df['message'] = df['message'].str.replace(\"\\'\", '', regex=True)\n",
    "\n",
    "df['message'] = df['message'].str.replace(\"[^A-Za-z0-9^,!.\\/'+-=]\", ' ', regex=True)\n"
   ]
  },
  {
   "cell_type": "code",
   "execution_count": 5,
   "metadata": {},
   "outputs": [],
   "source": [
    "#переведем в нижний регистр\n",
    "df['message'] = df['message'].str.replace(\"\\s+\", ' ', regex=True)\n",
    "df['message'] = df['message'].str.lower()"
   ]
  },
  {
   "cell_type": "code",
   "execution_count": 6,
   "metadata": {},
   "outputs": [
    {
     "data": {
      "text/plain": [
       "(49999, 3)"
      ]
     },
     "execution_count": 6,
     "metadata": {},
     "output_type": "execute_result"
    }
   ],
   "source": [
    "#уберем шум\n",
    "df.dropna(inplace = True)\n",
    "df.shape"
   ]
  },
  {
   "cell_type": "code",
   "execution_count": 7,
   "metadata": {},
   "outputs": [
    {
     "data": {
      "text/plain": [
       "(49499, 4)"
      ]
     },
     "execution_count": 7,
     "metadata": {},
     "output_type": "execute_result"
    }
   ],
   "source": [
    "# уберем шумовые длинные сообщения\n",
    "df['message_len'] = df['message'].str.len()\n",
    "\n",
    "df = df[(df['message_len'] < np.percentile(df.message_len,99))][:]\n",
    "\n",
    "df.shape"
   ]
  },
  {
   "cell_type": "markdown",
   "metadata": {},
   "source": [
    "# очистим весь наш текст от шумовых слов и преобразуем к первообразным формам\n"
   ]
  },
  {
   "cell_type": "code",
   "execution_count": 8,
   "metadata": {},
   "outputs": [],
   "source": [
    "#давайте попробуем очистить от шума наши сообщения и создадим новый текст очищенный от мусора"
   ]
  },
  {
   "cell_type": "code",
   "execution_count": 9,
   "metadata": {},
   "outputs": [
    {
     "data": {
      "text/html": [
       "<div>\n",
       "<style scoped>\n",
       "    .dataframe tbody tr th:only-of-type {\n",
       "        vertical-align: middle;\n",
       "    }\n",
       "\n",
       "    .dataframe tbody tr th {\n",
       "        vertical-align: top;\n",
       "    }\n",
       "\n",
       "    .dataframe thead th {\n",
       "        text-align: right;\n",
       "    }\n",
       "</style>\n",
       "<table border=\"1\" class=\"dataframe\">\n",
       "  <thead>\n",
       "    <tr style=\"text-align: right;\">\n",
       "      <th></th>\n",
       "      <th>review</th>\n",
       "    </tr>\n",
       "  </thead>\n",
       "  <tbody>\n",
       "    <tr>\n",
       "      <th>0</th>\n",
       "      <td>chat transcript: visitor: i am attempting to ...</td>\n",
       "    </tr>\n",
       "    <tr>\n",
       "      <th>1</th>\n",
       "      <td>chat transcript: visitor: hi. for some reason...</td>\n",
       "    </tr>\n",
       "  </tbody>\n",
       "</table>\n",
       "</div>"
      ],
      "text/plain": [
       "                                              review\n",
       "0   chat transcript: visitor: i am attempting to ...\n",
       "1   chat transcript: visitor: hi. for some reason..."
      ]
     },
     "execution_count": 9,
     "metadata": {},
     "output_type": "execute_result"
    }
   ],
   "source": [
    "df_reviews = df[['message']][:]\n",
    "df_reviews.columns = ['review']\n",
    "df_reviews.reset_index(drop = True , inplace = True)\n",
    "df_reviews.head(2)"
   ]
  },
  {
   "cell_type": "code",
   "execution_count": 10,
   "metadata": {},
   "outputs": [],
   "source": [
    "\n",
    "list_count_words = []\n",
    "list_true_words = []\n",
    "list_tagged = []\n",
    "list_tags = []\n",
    "\n",
    "for i ,row in  df_reviews.iterrows():\n",
    "    words = []\n",
    "    tagged = []\n",
    "    true_words = []\n",
    "    tags = []\n",
    "    \n",
    "    a_line = row['review']\n",
    "\n",
    "    \n",
    "    try:\n",
    "        words = re.split(' ', a_line)\n",
    "        true_words = []\n",
    "\n",
    "        for word in words:\n",
    "            m = re.search('(\\w+)',word)\n",
    "            if m is not None:\n",
    "                good_word = m.group(0)\n",
    "                true_words.append(good_word)\n",
    "\n",
    "        tagged = nltk.pos_tag(true_words)\n",
    "        tags = []\n",
    "        for tag in tagged:\n",
    "            tags.append(tag[1])\n",
    "    except:\n",
    "        pass\n",
    "\n",
    "\n",
    "\n",
    "    list_count_words.append(len(words))   \n",
    "    list_tagged.append(tagged)\n",
    "    list_true_words.append(true_words)\n",
    "    list_tags.append(tags)\n"
   ]
  },
  {
   "cell_type": "code",
   "execution_count": 11,
   "metadata": {},
   "outputs": [],
   "source": [
    "df_reviews['count_words'] = list_count_words\n",
    "df_reviews['list_of_words'] = list_true_words\n",
    "\n",
    "df_reviews['list_of_tags'] = list_tags\n",
    "df_reviews['word_with_tag_list'] = list_tagged\n"
   ]
  },
  {
   "cell_type": "code",
   "execution_count": 12,
   "metadata": {},
   "outputs": [
    {
     "data": {
      "text/html": [
       "<div>\n",
       "<style scoped>\n",
       "    .dataframe tbody tr th:only-of-type {\n",
       "        vertical-align: middle;\n",
       "    }\n",
       "\n",
       "    .dataframe tbody tr th {\n",
       "        vertical-align: top;\n",
       "    }\n",
       "\n",
       "    .dataframe thead th {\n",
       "        text-align: right;\n",
       "    }\n",
       "</style>\n",
       "<table border=\"1\" class=\"dataframe\">\n",
       "  <thead>\n",
       "    <tr style=\"text-align: right;\">\n",
       "      <th></th>\n",
       "      <th>sentence</th>\n",
       "      <th>count_words</th>\n",
       "      <th>list_of_words</th>\n",
       "      <th>list_of_tags</th>\n",
       "      <th>word_with_tag_list</th>\n",
       "    </tr>\n",
       "  </thead>\n",
       "  <tbody>\n",
       "    <tr>\n",
       "      <th>0</th>\n",
       "      <td>chat transcript: visitor: i am attempting to ...</td>\n",
       "      <td>58</td>\n",
       "      <td>[chat, transcript, visitor, i, am, attempting,...</td>\n",
       "      <td>[RB, JJ, NN, NN, VBP, VBG, TO, VB, PRP$, NN, R...</td>\n",
       "      <td>[(chat, RB), (transcript, JJ), (visitor, NN), ...</td>\n",
       "    </tr>\n",
       "    <tr>\n",
       "      <th>1</th>\n",
       "      <td>chat transcript: visitor: hi. for some reason...</td>\n",
       "      <td>113</td>\n",
       "      <td>[chat, transcript, visitor, hi, for, some, rea...</td>\n",
       "      <td>[RB, JJ, NN, NN, IN, DT, NN, PRP, VBZ, IN, PRP...</td>\n",
       "      <td>[(chat, RB), (transcript, JJ), (visitor, NN), ...</td>\n",
       "    </tr>\n",
       "    <tr>\n",
       "      <th>2</th>\n",
       "      <td>chat transcript: visitor: , faceit, andrew: ....</td>\n",
       "      <td>50</td>\n",
       "      <td>[chat, transcript, visitor, faceit, andrew, vi...</td>\n",
       "      <td>[RB, JJ, NN, NN, VBD, NN, NN, NN, VBD, TO, VB,...</td>\n",
       "      <td>[(chat, RB), (transcript, JJ), (visitor, NN), ...</td>\n",
       "    </tr>\n",
       "    <tr>\n",
       "      <th>3</th>\n",
       "      <td>chat transcript: visitor: no puedo hacer la r...</td>\n",
       "      <td>157</td>\n",
       "      <td>[chat, transcript, visitor, no, puedo, hacer, ...</td>\n",
       "      <td>[RB, JJ, NN, DT, NN, NN, FW, FW, FW, NN, VBD, ...</td>\n",
       "      <td>[(chat, RB), (transcript, JJ), (visitor, NN), ...</td>\n",
       "    </tr>\n",
       "    <tr>\n",
       "      <th>4</th>\n",
       "      <td>chat transcript: visitor: hi im trying to buy...</td>\n",
       "      <td>110</td>\n",
       "      <td>[chat, transcript, visitor, hi, im, trying, to...</td>\n",
       "      <td>[RB, JJ, NN, NN, NN, VBG, TO, VB, NNS, CC, PRP...</td>\n",
       "      <td>[(chat, RB), (transcript, JJ), (visitor, NN), ...</td>\n",
       "    </tr>\n",
       "  </tbody>\n",
       "</table>\n",
       "</div>"
      ],
      "text/plain": [
       "                                            sentence  count_words  \\\n",
       "0   chat transcript: visitor: i am attempting to ...           58   \n",
       "1   chat transcript: visitor: hi. for some reason...          113   \n",
       "2   chat transcript: visitor: , faceit, andrew: ....           50   \n",
       "3   chat transcript: visitor: no puedo hacer la r...          157   \n",
       "4   chat transcript: visitor: hi im trying to buy...          110   \n",
       "\n",
       "                                       list_of_words  \\\n",
       "0  [chat, transcript, visitor, i, am, attempting,...   \n",
       "1  [chat, transcript, visitor, hi, for, some, rea...   \n",
       "2  [chat, transcript, visitor, faceit, andrew, vi...   \n",
       "3  [chat, transcript, visitor, no, puedo, hacer, ...   \n",
       "4  [chat, transcript, visitor, hi, im, trying, to...   \n",
       "\n",
       "                                        list_of_tags  \\\n",
       "0  [RB, JJ, NN, NN, VBP, VBG, TO, VB, PRP$, NN, R...   \n",
       "1  [RB, JJ, NN, NN, IN, DT, NN, PRP, VBZ, IN, PRP...   \n",
       "2  [RB, JJ, NN, NN, VBD, NN, NN, NN, VBD, TO, VB,...   \n",
       "3  [RB, JJ, NN, DT, NN, NN, FW, FW, FW, NN, VBD, ...   \n",
       "4  [RB, JJ, NN, NN, NN, VBG, TO, VB, NNS, CC, PRP...   \n",
       "\n",
       "                                  word_with_tag_list  \n",
       "0  [(chat, RB), (transcript, JJ), (visitor, NN), ...  \n",
       "1  [(chat, RB), (transcript, JJ), (visitor, NN), ...  \n",
       "2  [(chat, RB), (transcript, JJ), (visitor, NN), ...  \n",
       "3  [(chat, RB), (transcript, JJ), (visitor, NN), ...  \n",
       "4  [(chat, RB), (transcript, JJ), (visitor, NN), ...  "
      ]
     },
     "execution_count": 12,
     "metadata": {},
     "output_type": "execute_result"
    }
   ],
   "source": [
    "text_analizator_df = df_reviews[:]\n",
    "text_analizator_df.rename(columns = {'review' : 'sentence'} , inplace = True)\n",
    "text_analizator_df.head()"
   ]
  },
  {
   "cell_type": "code",
   "execution_count": 13,
   "metadata": {},
   "outputs": [],
   "source": [
    "#получили новое смысловое описание атрибутов текста, видно много местоимений и другой информации, давайте очистим"
   ]
  },
  {
   "cell_type": "code",
   "execution_count": 14,
   "metadata": {},
   "outputs": [],
   "source": [
    "stopWords =nltk.corpus.stopwords.words()\n",
    "\n",
    "LANGUAGE = 'english'\n",
    "\n",
    "sw0 = [\"yeah\",\"zola\",\"don\"]\n",
    "sw1 = gsw1(LANGUAGE)\n",
    "sw2 = gsw2('en')\n",
    "\n",
    "sw0.extend(list(sw1))\n",
    "sw0.extend(list(sw2))\n",
    "\n",
    "\n",
    "\n",
    "new_s_list = []\n",
    "new_lw_list = []\n",
    "new_lt_list = []\n",
    "new_lwt_list = []\n",
    "new_count_words = []\n",
    "\n",
    "for s , lw , lt ,lwt in zip (text_analizator_df['sentence'] \n",
    "                        , text_analizator_df['list_of_words'] \n",
    "                        , text_analizator_df['list_of_tags']\n",
    "                        , text_analizator_df['word_with_tag_list']):\n",
    "    new_s = ''\n",
    "    new_lw = []\n",
    "    new_lt = []\n",
    "    new_lwt = []\n",
    "    for w,t,lw in zip(lw,lt,lwt):\n",
    "        if t in ['NN','VB','DT','NNS','VBP','VB']:\n",
    "            new_s += w + ' '\n",
    "            new_lw.append(w)\n",
    "            new_lt.append(t)\n",
    "            new_lwt.append(lw)\n",
    "        elif w in sw0 or re.match('\\d+',w) is not None:\n",
    "            continue\n",
    "\n",
    "    \n",
    "    new_s_list.append(new_s)\n",
    "    new_lw_list.append(new_lw)\n",
    "    new_lt_list.append(new_lt)\n",
    "    new_lwt_list.append(new_lwt)\n",
    "    new_count_words.append(len(new_lw))\n",
    "        \n",
    "text_analizator_df['new_sentence'] = new_s_list\n",
    "text_analizator_df['list_of_words'] = new_lw_list\n",
    "text_analizator_df['list_of_tags'] = new_lt_list\n",
    "text_analizator_df['word_with_tag_list'] = new_lwt_list\n",
    "text_analizator_df['count_words'] = new_count_words\n"
   ]
  },
  {
   "cell_type": "code",
   "execution_count": null,
   "metadata": {},
   "outputs": [],
   "source": []
  },
  {
   "cell_type": "code",
   "execution_count": 15,
   "metadata": {},
   "outputs": [
    {
     "name": "stdout",
     "output_type": "stream",
     "text": [
      "old-  chat transcript: visitor: i am attempting to verify my card however the payment is not posting. all charges typically post immediately with my bank. sofia: hello sofia: please stand by online, as it may take some time to resolve the issue. ill provide you with an update in a few minutes. thank you for your patience. \n",
      "\n",
      "\n",
      "new -visitor i am verify card the payment all charges post bank sofia hello sofia please stand online take some time resolve the issue ill an update a minutes thank patience \n"
     ]
    }
   ],
   "source": [
    "# в итоге выделив основные главне слова, которые нам могут быть интересны потенциально\n",
    "# получили new_sentence, можнте посмотреть как он отличается\n",
    "print(f'old- {text_analizator_df.loc[0][\"sentence\"]}' )\n",
    "print('\\n')\n",
    "print(f'new -{text_analizator_df.loc[0][\"new_sentence\"]}' )"
   ]
  },
  {
   "cell_type": "code",
   "execution_count": 16,
   "metadata": {},
   "outputs": [
    {
     "data": {
      "text/html": [
       "<div>\n",
       "<style scoped>\n",
       "    .dataframe tbody tr th:only-of-type {\n",
       "        vertical-align: middle;\n",
       "    }\n",
       "\n",
       "    .dataframe tbody tr th {\n",
       "        vertical-align: top;\n",
       "    }\n",
       "\n",
       "    .dataframe thead th {\n",
       "        text-align: right;\n",
       "    }\n",
       "</style>\n",
       "<table border=\"1\" class=\"dataframe\">\n",
       "  <thead>\n",
       "    <tr style=\"text-align: right;\">\n",
       "      <th></th>\n",
       "      <th>sentence</th>\n",
       "      <th>count_words</th>\n",
       "      <th>list_of_words</th>\n",
       "      <th>list_of_tags</th>\n",
       "      <th>word_with_tag_list</th>\n",
       "      <th>new_sentence</th>\n",
       "    </tr>\n",
       "  </thead>\n",
       "  <tbody>\n",
       "    <tr>\n",
       "      <th>0</th>\n",
       "      <td>chat transcript: visitor: i am attempting to ...</td>\n",
       "      <td>30</td>\n",
       "      <td>[visitor, i, am, verify, card, the, payment, a...</td>\n",
       "      <td>[NN, NN, VBP, VB, NN, DT, NN, DT, NNS, VBP, NN...</td>\n",
       "      <td>[(visitor, NN), (i, NN), (am, VBP), (verify, V...</td>\n",
       "      <td>visitor i am verify card the payment all charg...</td>\n",
       "    </tr>\n",
       "    <tr>\n",
       "      <th>1</th>\n",
       "      <td>chat transcript: visitor: hi. for some reason...</td>\n",
       "      <td>64</td>\n",
       "      <td>[visitor, hi, some, reason, sub, prepcoin, nl,...</td>\n",
       "      <td>[NN, NN, DT, NN, NN, NN, NN, NN, VBP, NN, NN, ...</td>\n",
       "      <td>[(visitor, NN), (hi, NN), (some, DT), (reason,...</td>\n",
       "      <td>visitor hi some reason sub prepcoin nl didnt g...</td>\n",
       "    </tr>\n",
       "    <tr>\n",
       "      <th>2</th>\n",
       "      <td>chat transcript: visitor: , faceit, andrew: ....</td>\n",
       "      <td>17</td>\n",
       "      <td>[visitor, faceit, visitor, hello, i, pay, a, s...</td>\n",
       "      <td>[NN, NN, NN, NN, NN, VB, DT, NN, DT, NN, NN, D...</td>\n",
       "      <td>[(visitor, NN), (faceit, NN), (visitor, NN), (...</td>\n",
       "      <td>visitor faceit visitor hello i pay a subscript...</td>\n",
       "    </tr>\n",
       "    <tr>\n",
       "      <th>3</th>\n",
       "      <td>chat transcript: visitor: no puedo hacer la r...</td>\n",
       "      <td>80</td>\n",
       "      <td>[visitor, no, puedo, hacer, cash, infelizmente...</td>\n",
       "      <td>[NN, DT, NN, NN, NN, NN, NN, DT, NN, NN, NN, N...</td>\n",
       "      <td>[(visitor, NN), (no, DT), (puedo, NN), (hacer,...</td>\n",
       "      <td>visitor no puedo hacer cash infelizmente yo no...</td>\n",
       "    </tr>\n",
       "    <tr>\n",
       "      <th>4</th>\n",
       "      <td>chat transcript: visitor: hi im trying to buy...</td>\n",
       "      <td>48</td>\n",
       "      <td>[visitor, hi, im, buy, bits, payment, be, hell...</td>\n",
       "      <td>[NN, NN, NN, VB, NNS, NN, VB, NN, NN, VB, DT, ...</td>\n",
       "      <td>[(visitor, NN), (hi, NN), (im, NN), (buy, VB),...</td>\n",
       "      <td>visitor hi im buy bits payment be hello im add...</td>\n",
       "    </tr>\n",
       "  </tbody>\n",
       "</table>\n",
       "</div>"
      ],
      "text/plain": [
       "                                            sentence  count_words  \\\n",
       "0   chat transcript: visitor: i am attempting to ...           30   \n",
       "1   chat transcript: visitor: hi. for some reason...           64   \n",
       "2   chat transcript: visitor: , faceit, andrew: ....           17   \n",
       "3   chat transcript: visitor: no puedo hacer la r...           80   \n",
       "4   chat transcript: visitor: hi im trying to buy...           48   \n",
       "\n",
       "                                       list_of_words  \\\n",
       "0  [visitor, i, am, verify, card, the, payment, a...   \n",
       "1  [visitor, hi, some, reason, sub, prepcoin, nl,...   \n",
       "2  [visitor, faceit, visitor, hello, i, pay, a, s...   \n",
       "3  [visitor, no, puedo, hacer, cash, infelizmente...   \n",
       "4  [visitor, hi, im, buy, bits, payment, be, hell...   \n",
       "\n",
       "                                        list_of_tags  \\\n",
       "0  [NN, NN, VBP, VB, NN, DT, NN, DT, NNS, VBP, NN...   \n",
       "1  [NN, NN, DT, NN, NN, NN, NN, NN, VBP, NN, NN, ...   \n",
       "2  [NN, NN, NN, NN, NN, VB, DT, NN, DT, NN, NN, D...   \n",
       "3  [NN, DT, NN, NN, NN, NN, NN, DT, NN, NN, NN, N...   \n",
       "4  [NN, NN, NN, VB, NNS, NN, VB, NN, NN, VB, DT, ...   \n",
       "\n",
       "                                  word_with_tag_list  \\\n",
       "0  [(visitor, NN), (i, NN), (am, VBP), (verify, V...   \n",
       "1  [(visitor, NN), (hi, NN), (some, DT), (reason,...   \n",
       "2  [(visitor, NN), (faceit, NN), (visitor, NN), (...   \n",
       "3  [(visitor, NN), (no, DT), (puedo, NN), (hacer,...   \n",
       "4  [(visitor, NN), (hi, NN), (im, NN), (buy, VB),...   \n",
       "\n",
       "                                        new_sentence  \n",
       "0  visitor i am verify card the payment all charg...  \n",
       "1  visitor hi some reason sub prepcoin nl didnt g...  \n",
       "2  visitor faceit visitor hello i pay a subscript...  \n",
       "3  visitor no puedo hacer cash infelizmente yo no...  \n",
       "4  visitor hi im buy bits payment be hello im add...  "
      ]
     },
     "execution_count": 16,
     "metadata": {},
     "output_type": "execute_result"
    }
   ],
   "source": [
    "text_analizator_df.head()"
   ]
  },
  {
   "cell_type": "code",
   "execution_count": 17,
   "metadata": {},
   "outputs": [],
   "source": [
    "text_analizator_df = text_analizator_df.iloc[0:15000]"
   ]
  },
  {
   "cell_type": "markdown",
   "metadata": {},
   "source": [
    "# генерация вектора\n",
    "Давайте попробуем оставить только важные слова"
   ]
  },
  {
   "cell_type": "code",
   "execution_count": 18,
   "metadata": {},
   "outputs": [],
   "source": [
    "text_analizator_df['text_arr'] = text_analizator_df.new_sentence.str.split('\\W+').tolist()"
   ]
  },
  {
   "cell_type": "code",
   "execution_count": 19,
   "metadata": {},
   "outputs": [],
   "source": [
    "#сделаем массив из всех слов, разделенных пробелами, которые могут встречаться\n",
    "text_arrays = text_analizator_df['text_arr'].tolist()\n",
    "text_arrays = np.concatenate( text_arrays, axis=0 )\n"
   ]
  },
  {
   "cell_type": "code",
   "execution_count": 20,
   "metadata": {},
   "outputs": [],
   "source": [
    "#уберем все пустые строки\n",
    "text_arrays = list( text_arrays)\n",
    "text_arrays = list(filter(None, text_arrays))"
   ]
  },
  {
   "cell_type": "code",
   "execution_count": 21,
   "metadata": {},
   "outputs": [
    {
     "data": {
      "text/plain": [
       "Text(0.5, 1.0, 'Top Words')"
      ]
     },
     "execution_count": 21,
     "metadata": {},
     "output_type": "execute_result"
    },
    {
     "data": {
      "image/png": "[encoded data removed]",
      "text/plain": [
       "<Figure size 1152x576 with 1 Axes>"
      ]
     },
     "metadata": {
      "needs_background": "light"
     },
     "output_type": "display_data"
    }
   ],
   "source": [
    "#проанализируем популярные слова\n",
    "from sklearn.feature_extraction.text import CountVectorizer\n",
    "\n",
    "c_text = co.Counter(text_arrays)\n",
    "\n",
    "w =[]\n",
    "count_w = []\n",
    "\n",
    "\n",
    "most_freq_words = []\n",
    "\n",
    "for i in c_text.most_common(20):\n",
    "    w.append(i[0])\n",
    "    count_w.append(i[1])\n",
    "\n",
    "fig, ax = plt.subplots(figsize=(16,8))\n",
    "ax.bar(range(len(w)), count_w)\n",
    "ax.set_xticks(range(len(w)))\n",
    "ax.set_xticklabels(w)\n",
    "ax.set_title('Top Words')"
   ]
  },
  {
   "cell_type": "code",
   "execution_count": 22,
   "metadata": {},
   "outputs": [
    {
     "data": {
      "text/html": [
       "<div>\n",
       "<style scoped>\n",
       "    .dataframe tbody tr th:only-of-type {\n",
       "        vertical-align: middle;\n",
       "    }\n",
       "\n",
       "    .dataframe tbody tr th {\n",
       "        vertical-align: top;\n",
       "    }\n",
       "\n",
       "    .dataframe thead th {\n",
       "        text-align: right;\n",
       "    }\n",
       "</style>\n",
       "<table border=\"1\" class=\"dataframe\">\n",
       "  <thead>\n",
       "    <tr style=\"text-align: right;\">\n",
       "      <th></th>\n",
       "      <th>0</th>\n",
       "    </tr>\n",
       "  </thead>\n",
       "  <tbody>\n",
       "    <tr>\n",
       "      <th>wszystko</th>\n",
       "      <td>1</td>\n",
       "    </tr>\n",
       "    <tr>\n",
       "      <th>rnjni20</th>\n",
       "      <td>1</td>\n",
       "    </tr>\n",
       "    <tr>\n",
       "      <th>sor</th>\n",
       "      <td>1</td>\n",
       "    </tr>\n",
       "    <tr>\n",
       "      <th>calov</th>\n",
       "      <td>1</td>\n",
       "    </tr>\n",
       "    <tr>\n",
       "      <th>burst001</th>\n",
       "      <td>1</td>\n",
       "    </tr>\n",
       "    <tr>\n",
       "      <th>atr</th>\n",
       "      <td>1</td>\n",
       "    </tr>\n",
       "    <tr>\n",
       "      <th>vat18</th>\n",
       "      <td>1</td>\n",
       "    </tr>\n",
       "    <tr>\n",
       "      <th>arquivada</th>\n",
       "      <td>1</td>\n",
       "    </tr>\n",
       "    <tr>\n",
       "      <th>deduce</th>\n",
       "      <td>1</td>\n",
       "    </tr>\n",
       "    <tr>\n",
       "      <th>mutch</th>\n",
       "      <td>1</td>\n",
       "    </tr>\n",
       "    <tr>\n",
       "      <th>db17bb0e</th>\n",
       "      <td>1</td>\n",
       "    </tr>\n",
       "    <tr>\n",
       "      <th>footprints</th>\n",
       "      <td>1</td>\n",
       "    </tr>\n",
       "    <tr>\n",
       "      <th>direction</th>\n",
       "      <td>1</td>\n",
       "    </tr>\n",
       "    <tr>\n",
       "      <th>id1</th>\n",
       "      <td>1</td>\n",
       "    </tr>\n",
       "    <tr>\n",
       "      <th>id2</th>\n",
       "      <td>1</td>\n",
       "    </tr>\n",
       "  </tbody>\n",
       "</table>\n",
       "</div>"
      ],
      "text/plain": [
       "            0\n",
       "wszystko    1\n",
       "rnjni20     1\n",
       "sor         1\n",
       "calov       1\n",
       "burst001    1\n",
       "atr         1\n",
       "vat18       1\n",
       "arquivada   1\n",
       "deduce      1\n",
       "mutch       1\n",
       "db17bb0e    1\n",
       "footprints  1\n",
       "direction   1\n",
       "id1         1\n",
       "id2         1"
      ]
     },
     "execution_count": 22,
     "metadata": {},
     "output_type": "execute_result"
    }
   ],
   "source": [
    "#посмотрим непопулярные слова мало ли там беда\n",
    "pd.DataFrame.from_dict(dict(c_text) , orient = 'index').sort_values(by = 0).head(15)\n",
    "\n",
    "#видно в непопулярных словах какой то треш, они явно бесполезны при создании нашей модели, идем верно"
   ]
  },
  {
   "cell_type": "markdown",
   "metadata": {},
   "source": [
    "# стемминг\n",
    "важной частью задач nlp является преобразование к первоначальной форме, т.к. мы сужаем область поиска для слов"
   ]
  },
  {
   "cell_type": "code",
   "execution_count": 23,
   "metadata": {},
   "outputs": [],
   "source": [
    "text_analizator_df['text_arr'] = text_analizator_df.new_sentence.str.split('\\W+').tolist()"
   ]
  },
  {
   "cell_type": "code",
   "execution_count": 24,
   "metadata": {},
   "outputs": [],
   "source": [
    "from nltk.stem.porter import *\n",
    "stemming = PorterStemmer()\n",
    "\n",
    "def stem_list(row):\n",
    "    my_list = row['text_arr']\n",
    "    stemmed_list = [stemming.stem(word) for word in my_list]\n",
    "    return (stemmed_list)\n",
    "\n",
    "text_analizator_df['stem_arr'] = text_analizator_df.apply(stem_list, axis=1)\n"
   ]
  },
  {
   "cell_type": "code",
   "execution_count": 25,
   "metadata": {},
   "outputs": [],
   "source": [
    "text_arrays = text_analizator_df['stem_arr'].tolist()\n",
    "text_arrays = np.concatenate( text_arrays, axis=0 )\n"
   ]
  },
  {
   "cell_type": "code",
   "execution_count": 26,
   "metadata": {},
   "outputs": [
    {
     "data": {
      "text/plain": [
       "Text(0.5, 1.0, 'Top Words')"
      ]
     },
     "execution_count": 26,
     "metadata": {},
     "output_type": "execute_result"
    },
    {
     "data": {
      "image/png": "[encoded data removed]",
      "text/plain": [
       "<Figure size 1152x576 with 1 Axes>"
      ]
     },
     "metadata": {
      "needs_background": "light"
     },
     "output_type": "display_data"
    }
   ],
   "source": [
    "#отлично видим что наши частовстречающиеся слова однородны\n",
    "c_text = co.Counter(text_arrays)\n",
    "\n",
    "w =[]\n",
    "count_w = []\n",
    "\n",
    "\n",
    "most_freq_words = []\n",
    "\n",
    "for i in c_text.most_common(15):\n",
    "    w.append(i[0])\n",
    "    count_w.append(i[1])\n",
    "\n",
    "fig, ax = plt.subplots(figsize=(16,8))\n",
    "ax.bar(range(len(w)), count_w)\n",
    "ax.set_xticks(range(len(w)))\n",
    "ax.set_xticklabels(w)\n",
    "ax.set_title('Top Words')"
   ]
  },
  {
   "cell_type": "code",
   "execution_count": 27,
   "metadata": {},
   "outputs": [
    {
     "data": {
      "text/html": [
       "<div>\n",
       "<style scoped>\n",
       "    .dataframe tbody tr th:only-of-type {\n",
       "        vertical-align: middle;\n",
       "    }\n",
       "\n",
       "    .dataframe tbody tr th {\n",
       "        vertical-align: top;\n",
       "    }\n",
       "\n",
       "    .dataframe thead th {\n",
       "        text-align: right;\n",
       "    }\n",
       "</style>\n",
       "<table border=\"1\" class=\"dataframe\">\n",
       "  <thead>\n",
       "    <tr style=\"text-align: right;\">\n",
       "      <th></th>\n",
       "      <th>0</th>\n",
       "    </tr>\n",
       "  </thead>\n",
       "  <tbody>\n",
       "    <tr>\n",
       "      <th>visitor</th>\n",
       "      <td>72331</td>\n",
       "    </tr>\n",
       "    <tr>\n",
       "      <th>the</th>\n",
       "      <td>63628</td>\n",
       "    </tr>\n",
       "    <tr>\n",
       "      <th>a</th>\n",
       "      <td>31542</td>\n",
       "    </tr>\n",
       "    <tr>\n",
       "      <th>payment</th>\n",
       "      <td>29443</td>\n",
       "    </tr>\n",
       "    <tr>\n",
       "      <th>i</th>\n",
       "      <td>27660</td>\n",
       "    </tr>\n",
       "    <tr>\n",
       "      <th>...</th>\n",
       "      <td>...</td>\n",
       "    </tr>\n",
       "    <tr>\n",
       "      <th>dar</th>\n",
       "      <td>50</td>\n",
       "    </tr>\n",
       "    <tr>\n",
       "      <th>ncia</th>\n",
       "      <td>50</td>\n",
       "    </tr>\n",
       "    <tr>\n",
       "      <th>ele</th>\n",
       "      <td>50</td>\n",
       "    </tr>\n",
       "    <tr>\n",
       "      <th>disrupt</th>\n",
       "      <td>50</td>\n",
       "    </tr>\n",
       "    <tr>\n",
       "      <th>arena</th>\n",
       "      <td>50</td>\n",
       "    </tr>\n",
       "  </tbody>\n",
       "</table>\n",
       "<p>1000 rows × 1 columns</p>\n",
       "</div>"
      ],
      "text/plain": [
       "             0\n",
       "visitor  72331\n",
       "the      63628\n",
       "a        31542\n",
       "payment  29443\n",
       "i        27660\n",
       "...        ...\n",
       "dar         50\n",
       "ncia        50\n",
       "ele         50\n",
       "disrupt     50\n",
       "arena       50\n",
       "\n",
       "[1000 rows x 1 columns]"
      ]
     },
     "execution_count": 27,
     "metadata": {},
     "output_type": "execute_result"
    }
   ],
   "source": [
    "# мы хотим попробовать подход tf-idf над словами, для того, чтобы веса были равномерны - давайте выберем наиболее корректные слова\n",
    "#top_words = 1500 # old, accuracy 0,48\n",
    "top_words = 1000 # new\n",
    "pd.DataFrame.from_dict(dict(c_text) , orient = 'index').sort_values(by = 0,ascending = False).head(top_words)"
   ]
  },
  {
   "cell_type": "code",
   "execution_count": 28,
   "metadata": {},
   "outputs": [],
   "source": [
    "#оставим для модели топ слов\n",
    "final_words = pd.DataFrame.from_dict(dict(c_text) , orient = 'index').sort_values(by = 0 , ascending = False).head(top_words).index.values"
   ]
  },
  {
   "cell_type": "code",
   "execution_count": 29,
   "metadata": {},
   "outputs": [],
   "source": [
    "f = lambda x: ' '.join([item for item in x if item in final_words])\n",
    "text_analizator_df['stem_text'] = text_analizator_df['stem_arr'].apply(f)"
   ]
  },
  {
   "cell_type": "code",
   "execution_count": 30,
   "metadata": {},
   "outputs": [
    {
     "name": "stdout",
     "output_type": "stream",
     "text": [
      "old-  chat transcript: visitor: i am attempting to verify my card however the payment is not posting. all charges typically post immediately with my bank. sofia: hello sofia: please stand by online, as it may take some time to resolve the issue. ill provide you with an update in a few minutes. thank you for your patience. \n",
      "\n",
      "\n",
      "new -visitor i am verify card the payment all charges post bank sofia hello sofia please stand online take some time resolve the issue ill an update a minutes thank patience \n",
      "\n",
      "\n",
      "stem -visitor i am verifi card the payment all charg bank sofia hello sofia pleas stand onlin take some time resolv the issu ill an updat a minut thank patienc \n"
     ]
    }
   ],
   "source": [
    "# в итоге выделив основные главные слова, которые нам могут быть интересны потенциально\n",
    "# получили new_sentence, можнте посмотреть как он отличается\n",
    "print(f'old- {text_analizator_df.loc[0][\"sentence\"]}' )\n",
    "print('\\n')\n",
    "print(f'new -{text_analizator_df.loc[0][\"new_sentence\"]}' )\n",
    "print('\\n')\n",
    "print(f'stem -{text_analizator_df.loc[0][\"stem_text\"]}' )"
   ]
  },
  {
   "cell_type": "markdown",
   "metadata": {},
   "source": [
    "# сделаем теперь векторное представление"
   ]
  },
  {
   "cell_type": "code",
   "execution_count": 31,
   "metadata": {},
   "outputs": [
    {
     "name": "stdout",
     "output_type": "stream",
     "text": [
      "<class 'numpy.ndarray'> (15000, 975)\n"
     ]
    }
   ],
   "source": [
    "#ну тут без особой магии\n",
    "texts = df['message']\n",
    "texts = text_analizator_df['sentence']\n",
    "texts = text_analizator_df['stem_text']\n",
    "\n",
    "vec = TfidfVectorizer(max_features=top_words)\n",
    "tfidf_mat = vec.fit_transform(texts).toarray()\n",
    "print(type(tfidf_mat),tfidf_mat.shape)\n",
    "#на выход получаем матрицу заданной размерности"
   ]
  },
  {
   "cell_type": "markdown",
   "metadata": {},
   "source": [
    "# выравнивание классов"
   ]
  },
  {
   "cell_type": "code",
   "execution_count": 32,
   "metadata": {},
   "outputs": [
    {
     "data": {
      "text/html": [
       "<div>\n",
       "<style scoped>\n",
       "    .dataframe tbody tr th:only-of-type {\n",
       "        vertical-align: middle;\n",
       "    }\n",
       "\n",
       "    .dataframe tbody tr th {\n",
       "        vertical-align: top;\n",
       "    }\n",
       "\n",
       "    .dataframe thead th {\n",
       "        text-align: right;\n",
       "    }\n",
       "</style>\n",
       "<table border=\"1\" class=\"dataframe\">\n",
       "  <thead>\n",
       "    <tr style=\"text-align: right;\">\n",
       "      <th></th>\n",
       "      <th>0</th>\n",
       "      <th>1</th>\n",
       "      <th>2</th>\n",
       "      <th>3</th>\n",
       "      <th>4</th>\n",
       "      <th>5</th>\n",
       "      <th>6</th>\n",
       "      <th>7</th>\n",
       "      <th>8</th>\n",
       "      <th>9</th>\n",
       "      <th>...</th>\n",
       "      <th>966</th>\n",
       "      <th>967</th>\n",
       "      <th>968</th>\n",
       "      <th>969</th>\n",
       "      <th>970</th>\n",
       "      <th>971</th>\n",
       "      <th>972</th>\n",
       "      <th>973</th>\n",
       "      <th>974</th>\n",
       "      <th>category</th>\n",
       "    </tr>\n",
       "  </thead>\n",
       "  <tbody>\n",
       "    <tr>\n",
       "      <th>0</th>\n",
       "      <td>0.0</td>\n",
       "      <td>0.0</td>\n",
       "      <td>0.0</td>\n",
       "      <td>0.0</td>\n",
       "      <td>0.000000</td>\n",
       "      <td>0.0</td>\n",
       "      <td>0.0</td>\n",
       "      <td>0.0</td>\n",
       "      <td>0.0</td>\n",
       "      <td>0.000000</td>\n",
       "      <td>...</td>\n",
       "      <td>0.0</td>\n",
       "      <td>0.0</td>\n",
       "      <td>0.0</td>\n",
       "      <td>0.0</td>\n",
       "      <td>0.0</td>\n",
       "      <td>0.0</td>\n",
       "      <td>0.0</td>\n",
       "      <td>0.0</td>\n",
       "      <td>0.0</td>\n",
       "      <td>afs</td>\n",
       "    </tr>\n",
       "    <tr>\n",
       "      <th>1</th>\n",
       "      <td>0.0</td>\n",
       "      <td>0.0</td>\n",
       "      <td>0.0</td>\n",
       "      <td>0.0</td>\n",
       "      <td>0.191729</td>\n",
       "      <td>0.0</td>\n",
       "      <td>0.0</td>\n",
       "      <td>0.0</td>\n",
       "      <td>0.0</td>\n",
       "      <td>0.000000</td>\n",
       "      <td>...</td>\n",
       "      <td>0.0</td>\n",
       "      <td>0.0</td>\n",
       "      <td>0.0</td>\n",
       "      <td>0.0</td>\n",
       "      <td>0.0</td>\n",
       "      <td>0.0</td>\n",
       "      <td>0.0</td>\n",
       "      <td>0.0</td>\n",
       "      <td>0.0</td>\n",
       "      <td>other</td>\n",
       "    </tr>\n",
       "    <tr>\n",
       "      <th>2</th>\n",
       "      <td>0.0</td>\n",
       "      <td>0.0</td>\n",
       "      <td>0.0</td>\n",
       "      <td>0.0</td>\n",
       "      <td>0.000000</td>\n",
       "      <td>0.0</td>\n",
       "      <td>0.0</td>\n",
       "      <td>0.0</td>\n",
       "      <td>0.0</td>\n",
       "      <td>0.000000</td>\n",
       "      <td>...</td>\n",
       "      <td>0.0</td>\n",
       "      <td>0.0</td>\n",
       "      <td>0.0</td>\n",
       "      <td>0.0</td>\n",
       "      <td>0.0</td>\n",
       "      <td>0.0</td>\n",
       "      <td>0.0</td>\n",
       "      <td>0.0</td>\n",
       "      <td>0.0</td>\n",
       "      <td>afs</td>\n",
       "    </tr>\n",
       "    <tr>\n",
       "      <th>3</th>\n",
       "      <td>0.0</td>\n",
       "      <td>0.0</td>\n",
       "      <td>0.0</td>\n",
       "      <td>0.0</td>\n",
       "      <td>0.000000</td>\n",
       "      <td>0.0</td>\n",
       "      <td>0.0</td>\n",
       "      <td>0.0</td>\n",
       "      <td>0.0</td>\n",
       "      <td>0.000000</td>\n",
       "      <td>...</td>\n",
       "      <td>0.0</td>\n",
       "      <td>0.0</td>\n",
       "      <td>0.0</td>\n",
       "      <td>0.0</td>\n",
       "      <td>0.0</td>\n",
       "      <td>0.0</td>\n",
       "      <td>0.0</td>\n",
       "      <td>0.0</td>\n",
       "      <td>0.0</td>\n",
       "      <td>afs</td>\n",
       "    </tr>\n",
       "    <tr>\n",
       "      <th>4</th>\n",
       "      <td>0.0</td>\n",
       "      <td>0.0</td>\n",
       "      <td>0.0</td>\n",
       "      <td>0.0</td>\n",
       "      <td>0.000000</td>\n",
       "      <td>0.0</td>\n",
       "      <td>0.0</td>\n",
       "      <td>0.0</td>\n",
       "      <td>0.0</td>\n",
       "      <td>0.222696</td>\n",
       "      <td>...</td>\n",
       "      <td>0.0</td>\n",
       "      <td>0.0</td>\n",
       "      <td>0.0</td>\n",
       "      <td>0.0</td>\n",
       "      <td>0.0</td>\n",
       "      <td>0.0</td>\n",
       "      <td>0.0</td>\n",
       "      <td>0.0</td>\n",
       "      <td>0.0</td>\n",
       "      <td>afs</td>\n",
       "    </tr>\n",
       "  </tbody>\n",
       "</table>\n",
       "<p>5 rows × 976 columns</p>\n",
       "</div>"
      ],
      "text/plain": [
       "     0    1    2    3         4    5    6    7    8         9  ...  966  967  \\\n",
       "0  0.0  0.0  0.0  0.0  0.000000  0.0  0.0  0.0  0.0  0.000000  ...  0.0  0.0   \n",
       "1  0.0  0.0  0.0  0.0  0.191729  0.0  0.0  0.0  0.0  0.000000  ...  0.0  0.0   \n",
       "2  0.0  0.0  0.0  0.0  0.000000  0.0  0.0  0.0  0.0  0.000000  ...  0.0  0.0   \n",
       "3  0.0  0.0  0.0  0.0  0.000000  0.0  0.0  0.0  0.0  0.000000  ...  0.0  0.0   \n",
       "4  0.0  0.0  0.0  0.0  0.000000  0.0  0.0  0.0  0.0  0.222696  ...  0.0  0.0   \n",
       "\n",
       "   968  969  970  971  972  973  974  category  \n",
       "0  0.0  0.0  0.0  0.0  0.0  0.0  0.0       afs  \n",
       "1  0.0  0.0  0.0  0.0  0.0  0.0  0.0     other  \n",
       "2  0.0  0.0  0.0  0.0  0.0  0.0  0.0       afs  \n",
       "3  0.0  0.0  0.0  0.0  0.0  0.0  0.0       afs  \n",
       "4  0.0  0.0  0.0  0.0  0.0  0.0  0.0       afs  \n",
       "\n",
       "[5 rows x 976 columns]"
      ]
     },
     "execution_count": 32,
     "metadata": {},
     "output_type": "execute_result"
    }
   ],
   "source": [
    "train = pd.DataFrame(tfidf_mat)\n",
    "train['category'] =  df['category']\n",
    "\n",
    "target = 'category'\n",
    "train_columns = list(set(train.columns) - set([target]))\n",
    "\n",
    "train.head()"
   ]
  },
  {
   "cell_type": "code",
   "execution_count": 33,
   "metadata": {},
   "outputs": [],
   "source": [
    "train.dropna(inplace = True)"
   ]
  },
  {
   "cell_type": "code",
   "execution_count": 34,
   "metadata": {},
   "outputs": [],
   "source": [
    "#переводим в инты таргет\n",
    "labels, levels = pd.factorize(train[target])\n",
    "train['category_int'] = labels\n",
    "\n",
    "target = train['category_int']"
   ]
  },
  {
   "cell_type": "code",
   "execution_count": 35,
   "metadata": {},
   "outputs": [
    {
     "data": {
      "text/html": [
       "<div>\n",
       "<style scoped>\n",
       "    .dataframe tbody tr th:only-of-type {\n",
       "        vertical-align: middle;\n",
       "    }\n",
       "\n",
       "    .dataframe tbody tr th {\n",
       "        vertical-align: top;\n",
       "    }\n",
       "\n",
       "    .dataframe thead th {\n",
       "        text-align: right;\n",
       "    }\n",
       "</style>\n",
       "<table border=\"1\" class=\"dataframe\">\n",
       "  <thead>\n",
       "    <tr style=\"text-align: right;\">\n",
       "      <th></th>\n",
       "      <th>0</th>\n",
       "      <th>1</th>\n",
       "      <th>2</th>\n",
       "      <th>3</th>\n",
       "      <th>4</th>\n",
       "      <th>5</th>\n",
       "      <th>6</th>\n",
       "      <th>7</th>\n",
       "      <th>8</th>\n",
       "      <th>9</th>\n",
       "      <th>...</th>\n",
       "      <th>967</th>\n",
       "      <th>968</th>\n",
       "      <th>969</th>\n",
       "      <th>970</th>\n",
       "      <th>971</th>\n",
       "      <th>972</th>\n",
       "      <th>973</th>\n",
       "      <th>974</th>\n",
       "      <th>category</th>\n",
       "      <th>category_int</th>\n",
       "    </tr>\n",
       "  </thead>\n",
       "  <tbody>\n",
       "    <tr>\n",
       "      <th>0</th>\n",
       "      <td>0.0</td>\n",
       "      <td>0.0</td>\n",
       "      <td>0.0</td>\n",
       "      <td>0.0</td>\n",
       "      <td>0.000000</td>\n",
       "      <td>0.0</td>\n",
       "      <td>0.0</td>\n",
       "      <td>0.0</td>\n",
       "      <td>0.0</td>\n",
       "      <td>0.000000</td>\n",
       "      <td>...</td>\n",
       "      <td>0.0</td>\n",
       "      <td>0.0</td>\n",
       "      <td>0.0</td>\n",
       "      <td>0.0</td>\n",
       "      <td>0.0</td>\n",
       "      <td>0.0</td>\n",
       "      <td>0.0</td>\n",
       "      <td>0.0</td>\n",
       "      <td>afs</td>\n",
       "      <td>0</td>\n",
       "    </tr>\n",
       "    <tr>\n",
       "      <th>1</th>\n",
       "      <td>0.0</td>\n",
       "      <td>0.0</td>\n",
       "      <td>0.0</td>\n",
       "      <td>0.0</td>\n",
       "      <td>0.191729</td>\n",
       "      <td>0.0</td>\n",
       "      <td>0.0</td>\n",
       "      <td>0.0</td>\n",
       "      <td>0.0</td>\n",
       "      <td>0.000000</td>\n",
       "      <td>...</td>\n",
       "      <td>0.0</td>\n",
       "      <td>0.0</td>\n",
       "      <td>0.0</td>\n",
       "      <td>0.0</td>\n",
       "      <td>0.0</td>\n",
       "      <td>0.0</td>\n",
       "      <td>0.0</td>\n",
       "      <td>0.0</td>\n",
       "      <td>other</td>\n",
       "      <td>1</td>\n",
       "    </tr>\n",
       "    <tr>\n",
       "      <th>2</th>\n",
       "      <td>0.0</td>\n",
       "      <td>0.0</td>\n",
       "      <td>0.0</td>\n",
       "      <td>0.0</td>\n",
       "      <td>0.000000</td>\n",
       "      <td>0.0</td>\n",
       "      <td>0.0</td>\n",
       "      <td>0.0</td>\n",
       "      <td>0.0</td>\n",
       "      <td>0.000000</td>\n",
       "      <td>...</td>\n",
       "      <td>0.0</td>\n",
       "      <td>0.0</td>\n",
       "      <td>0.0</td>\n",
       "      <td>0.0</td>\n",
       "      <td>0.0</td>\n",
       "      <td>0.0</td>\n",
       "      <td>0.0</td>\n",
       "      <td>0.0</td>\n",
       "      <td>afs</td>\n",
       "      <td>0</td>\n",
       "    </tr>\n",
       "    <tr>\n",
       "      <th>3</th>\n",
       "      <td>0.0</td>\n",
       "      <td>0.0</td>\n",
       "      <td>0.0</td>\n",
       "      <td>0.0</td>\n",
       "      <td>0.000000</td>\n",
       "      <td>0.0</td>\n",
       "      <td>0.0</td>\n",
       "      <td>0.0</td>\n",
       "      <td>0.0</td>\n",
       "      <td>0.000000</td>\n",
       "      <td>...</td>\n",
       "      <td>0.0</td>\n",
       "      <td>0.0</td>\n",
       "      <td>0.0</td>\n",
       "      <td>0.0</td>\n",
       "      <td>0.0</td>\n",
       "      <td>0.0</td>\n",
       "      <td>0.0</td>\n",
       "      <td>0.0</td>\n",
       "      <td>afs</td>\n",
       "      <td>0</td>\n",
       "    </tr>\n",
       "    <tr>\n",
       "      <th>4</th>\n",
       "      <td>0.0</td>\n",
       "      <td>0.0</td>\n",
       "      <td>0.0</td>\n",
       "      <td>0.0</td>\n",
       "      <td>0.000000</td>\n",
       "      <td>0.0</td>\n",
       "      <td>0.0</td>\n",
       "      <td>0.0</td>\n",
       "      <td>0.0</td>\n",
       "      <td>0.222696</td>\n",
       "      <td>...</td>\n",
       "      <td>0.0</td>\n",
       "      <td>0.0</td>\n",
       "      <td>0.0</td>\n",
       "      <td>0.0</td>\n",
       "      <td>0.0</td>\n",
       "      <td>0.0</td>\n",
       "      <td>0.0</td>\n",
       "      <td>0.0</td>\n",
       "      <td>afs</td>\n",
       "      <td>0</td>\n",
       "    </tr>\n",
       "  </tbody>\n",
       "</table>\n",
       "<p>5 rows × 977 columns</p>\n",
       "</div>"
      ],
      "text/plain": [
       "     0    1    2    3         4    5    6    7    8         9  ...  967  968  \\\n",
       "0  0.0  0.0  0.0  0.0  0.000000  0.0  0.0  0.0  0.0  0.000000  ...  0.0  0.0   \n",
       "1  0.0  0.0  0.0  0.0  0.191729  0.0  0.0  0.0  0.0  0.000000  ...  0.0  0.0   \n",
       "2  0.0  0.0  0.0  0.0  0.000000  0.0  0.0  0.0  0.0  0.000000  ...  0.0  0.0   \n",
       "3  0.0  0.0  0.0  0.0  0.000000  0.0  0.0  0.0  0.0  0.000000  ...  0.0  0.0   \n",
       "4  0.0  0.0  0.0  0.0  0.000000  0.0  0.0  0.0  0.0  0.222696  ...  0.0  0.0   \n",
       "\n",
       "   969  970  971  972  973  974  category  category_int  \n",
       "0  0.0  0.0  0.0  0.0  0.0  0.0       afs             0  \n",
       "1  0.0  0.0  0.0  0.0  0.0  0.0     other             1  \n",
       "2  0.0  0.0  0.0  0.0  0.0  0.0       afs             0  \n",
       "3  0.0  0.0  0.0  0.0  0.0  0.0       afs             0  \n",
       "4  0.0  0.0  0.0  0.0  0.0  0.0       afs             0  \n",
       "\n",
       "[5 rows x 977 columns]"
      ]
     },
     "execution_count": 35,
     "metadata": {},
     "output_type": "execute_result"
    }
   ],
   "source": [
    "train.head()"
   ]
  },
  {
   "cell_type": "code",
   "execution_count": null,
   "metadata": {},
   "outputs": [],
   "source": [
    "train[(train['category_int'] == -1)]\n",
    "train.category.unique()"
   ]
  },
  {
   "cell_type": "code",
   "execution_count": null,
   "metadata": {},
   "outputs": [],
   "source": [
    "#train[target].value_counts().plot(kind='bar', title='Count (target)');"
   ]
  },
  {
   "cell_type": "code",
   "execution_count": 53,
   "metadata": {},
   "outputs": [
    {
     "name": "stdout",
     "output_type": "stream",
     "text": [
      "rate target detect fight in game 1.0\n"
     ]
    },
    {
     "data": {
      "image/png": "[encoded data removed]",
      "text/plain": [
       "<Figure size 432x288 with 1 Axes>"
      ]
     },
     "metadata": {
      "needs_background": "light"
     },
     "output_type": "display_data"
    }
   ],
   "source": [
    "#сделаем оверсемплинг\n",
    "\n",
    "from imblearn.over_sampling import RandomOverSampler\n",
    "\n",
    "ros = RandomOverSampler()\n",
    "X_ros, y_ros = ros.fit_sample(train[train_columns], train[\"category_int\"])\n",
    "\n",
    "print(f'rate target detect fight in game {sum(y_ros) / X_ros.shape[0]}')\n",
    "\n",
    "y_ros.value_counts().plot(kind='bar', title='Count (target)');"
   ]
  },
  {
   "cell_type": "code",
   "execution_count": 55,
   "metadata": {},
   "outputs": [],
   "source": [
    "X_ros[\"category_int\"] = y_ros\n",
    "train2 = X_ros[:]"
   ]
  },
  {
   "cell_type": "markdown",
   "metadata": {},
   "source": []
  },
  {
   "cell_type": "code",
   "execution_count": null,
   "metadata": {},
   "outputs": [],
   "source": [
    "'''train = train.iloc[:15000, :]\n",
    "train.info()'''"
   ]
  },
  {
   "cell_type": "code",
   "execution_count": null,
   "metadata": {},
   "outputs": [],
   "source": [
    "train[\"category_int\"]"
   ]
  },
  {
   "cell_type": "code",
   "execution_count": 56,
   "metadata": {},
   "outputs": [
    {
     "name": "stdout",
     "output_type": "stream",
     "text": [
      "Train set: 25051 size , 0.9999600814338749 target size\n",
      "Test set: 6263 size , 1.0001596678907871 target size\n"
     ]
    }
   ],
   "source": [
    "from sklearn.model_selection import train_test_split\n",
    "x_train, x_test, y_train, y_test = train_test_split(train2[train_columns],\n",
    "                                                       train2[\"category_int\"],\n",
    "                                                       test_size=0.2,\n",
    "                                                      random_state=22031990\n",
    "                                                        ,stratify = train2[\"category_int\"] #,stratify = train2[target]\n",
    "                                                       )\n",
    "    \n",
    "print(f'Train set: {x_train.shape[0]} size , {sum(y_train) / x_train.shape[0]} target size')\n",
    "print(f'Test set: {x_test.shape[0]} size , {sum(y_test) / x_test.shape[0]} target size')"
   ]
  },
  {
   "cell_type": "code",
   "execution_count": 62,
   "metadata": {},
   "outputs": [],
   "source": [
    "'''x_train.to_csv(\"D:/Зубарев (D)/Python/x_train.csv\")\n",
    "x_test.to_csv(\"D:/Зубарев (D)/Python/x_test.csv\")\n",
    "y_train.to_csv(\"D:/Зубарев (D)/Python/y_train.csv\")\n",
    "y_test.to_csv(\"D:/Зубарев (D)/Python/y_test.csv\")'''"
   ]
  },
  {
   "cell_type": "code",
   "execution_count": null,
   "metadata": {},
   "outputs": [],
   "source": [
    "x_train[train_columns].head()"
   ]
  },
  {
   "cell_type": "code",
   "execution_count": null,
   "metadata": {},
   "outputs": [],
   "source": [
    "x_test.head()"
   ]
  },
  {
   "cell_type": "code",
   "execution_count": null,
   "metadata": {},
   "outputs": [],
   "source": [
    "y_train.head()"
   ]
  },
  {
   "cell_type": "code",
   "execution_count": null,
   "metadata": {},
   "outputs": [],
   "source": [
    "y_test.head()"
   ]
  },
  {
   "cell_type": "markdown",
   "metadata": {},
   "source": [
    "# наконец переходим к модели"
   ]
  },
  {
   "cell_type": "code",
   "execution_count": 57,
   "metadata": {},
   "outputs": [],
   "source": [
    "from sklearn.neural_network import MLPClassifier\n",
    "TextClassifier = MLPClassifier(hidden_layer_sizes = (20,10), max_iter = 1000, random_state = 40)"
   ]
  },
  {
   "cell_type": "code",
   "execution_count": 58,
   "metadata": {},
   "outputs": [
    {
     "data": {
      "text/plain": [
       "MLPClassifier(hidden_layer_sizes=(20, 10), max_iter=1000, random_state=40)"
      ]
     },
     "execution_count": 58,
     "metadata": {},
     "output_type": "execute_result"
    }
   ],
   "source": [
    "TextClassifier.fit(x_train[train_columns],y_train)"
   ]
  },
  {
   "cell_type": "code",
   "execution_count": 40,
   "metadata": {},
   "outputs": [],
   "source": [
    "pred = TextClassifier.predict(x_test)"
   ]
  },
  {
   "cell_type": "code",
   "execution_count": null,
   "metadata": {},
   "outputs": [],
   "source": [
    "y_test"
   ]
  },
  {
   "cell_type": "code",
   "execution_count": 60,
   "metadata": {},
   "outputs": [
    {
     "data": {
      "image/png": "[encoded data removed]",
      "text/plain": [
       "<Figure size 432x288 with 2 Axes>"
      ]
     },
     "metadata": {
      "needs_background": "light"
     },
     "output_type": "display_data"
    }
   ],
   "source": [
    "from sklearn.metrics import confusion_matrix\n",
    "from sklearn.metrics import plot_confusion_matrix\n",
    "\n",
    "#cm = confusion_matrix(y_true=y_test, y_pred=pred)\n",
    "\n",
    "plot_confusion_matrix(TextClassifier, x_test, y_test)\n",
    "\n",
    "#ig = matplotlib.pyplot.gcf()\n",
    "fig.set_size_inches(18.5, 10.5)\n",
    "#fig.savefig('test2png.png', dpi=100)\n",
    "plt.show()"
   ]
  },
  {
   "cell_type": "code",
   "execution_count": null,
   "metadata": {},
   "outputs": [],
   "source": [
    "df.category.hist()"
   ]
  },
  {
   "cell_type": "code",
   "execution_count": null,
   "metadata": {},
   "outputs": [],
   "source": [
    "plt.hist(TextClassifier.predict(pd.DataFrame(tfidf_mat)))"
   ]
  },
  {
   "cell_type": "markdown",
   "metadata": {},
   "source": [
    "# Сохраняем модель"
   ]
  },
  {
   "cell_type": "code",
   "execution_count": 41,
   "metadata": {},
   "outputs": [],
   "source": [
    "import pickle \n",
    "#vec = TfidfVectorizer(max_features=top_words)\n",
    "#tfidf_mat = vec.fit_transform(texts).toarray()\n",
    "pickle.dump(vec, open(r\"D:/Зубарев (D)/Python/tfidf.pickle\", \"wb\"))"
   ]
  },
  {
   "cell_type": "code",
   "execution_count": null,
   "metadata": {},
   "outputs": [],
   "source": [
    "#TextClassifier = MLPClassifier(hidden_layer_sizes = (20,10), max_iter = 1000, random_state = 40)\n",
    "#TextClassifier.fit(x_train[train_columns],y_train)"
   ]
  },
  {
   "cell_type": "code",
   "execution_count": 61,
   "metadata": {},
   "outputs": [],
   "source": [
    "pickle.dump(TextClassifier, open(\"D:/Зубарев (D)/Python/MLPClassifier_model.pickle\", \"wb\"))"
   ]
  },
  {
   "cell_type": "code",
   "execution_count": null,
   "metadata": {},
   "outputs": [],
   "source": [
    "TextClassifier2 = pickle.load(open(\"C:/Course/xsolla/MLPClassifier_model.pickle\", \"rb\"))\n",
    "pred2 = TextClassifier2.predict(x_test)\n",
    "cm = confusion_matrix(y_target=y_target,\n",
    "                      y_predicted=pred2)\n",
    "\n",
    "fig, ax = plot_confusion_matrix(conf_mat=cm)\n",
    "\n",
    "ig = matplotlib.pyplot.gcf()\n",
    "fig.set_size_inches(18.5, 10.5)\n",
    "#fig.savefig('test2png.png', dpi=100)\n",
    "plt.show()"
   ]
  },
  {
   "cell_type": "code",
   "execution_count": null,
   "metadata": {},
   "outputs": [],
   "source": [
    "pred2_proba = TextClassifier2.predict_proba(x_test)\n",
    "pred2_proba"
   ]
  },
  {
   "cell_type": "code",
   "execution_count": null,
   "metadata": {},
   "outputs": [],
   "source": [
    "#from joblib import dump, load\n",
    "#dump(TextClassifier, 'C:/Course/xsolla/MLPClassifier_model.joblib')\n"
   ]
  },
  {
   "cell_type": "code",
   "execution_count": null,
   "metadata": {},
   "outputs": [],
   "source": []
  }
 ],
 "metadata": {
  "kernelspec": {
   "display_name": "Python 3",
   "language": "python",
   "name": "python3"
  },
  "language_info": {
   "codemirror_mode": {
    "name": "ipython",
    "version": 3
   },
   "file_extension": ".py",
   "mimetype": "text/x-python",
   "name": "python",
   "nbconvert_exporter": "python",
   "pygments_lexer": "ipython3",
   "version": "3.7.6"
  },
  "toc": {
   "base_numbering": 1,
   "nav_menu": {},
   "number_sections": true,
   "sideBar": true,
   "skip_h1_title": false,
   "title_cell": "Table of Contents",
   "title_sidebar": "Contents",
   "toc_cell": false,
   "toc_position": {},
   "toc_section_display": true,
   "toc_window_display": false
  }
 },
 "nbformat": 4,
 "nbformat_minor": 2
}
